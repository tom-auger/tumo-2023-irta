{
 "cells": [
  {
   "cell_type": "markdown",
   "id": "bc8f47ea",
   "metadata": {},
   "source": [
    "# Lesson 2: Themes and Topics\n",
    "\n",
    "Given two documents how can we determine what they are about? In this lab we will explore two methods for doing this.\n",
    "\n",
    "The first uses statistics such as mutual information and chi-squared to determine unique words. \n",
    "\n",
    "The second uses a more advanced method called Latent Dirichlet Algorithm or LDA to determine which topics are present in the document."
   ]
  },
  {
   "cell_type": "markdown",
   "id": "3623e88b",
   "metadata": {},
   "source": [
    "## Corpus\n",
    "\n",
    "The dataset is a text file with two columns. The first column contains one of three document names:\n",
    "* \"Quran\"\n",
    "* \"OT\"\n",
    "* \"NT\"\n",
    "\n",
    "where OT is Old Testament and NT is New Testament.\n",
    "The second column contains the document text, in this case a verse from one of the three document names. \n",
    "\n",
    "**The document name and the document are separated by a tab character '\\t'**.\n",
    "\n",
    "Run the following code to output the first five lines of the dataset."
   ]
  },
  {
   "cell_type": "code",
   "execution_count": 1,
   "id": "004bbb9f",
   "metadata": {},
   "outputs": [
    {
     "name": "stdout",
     "output_type": "stream",
     "text": [
      "Quran\tPraise be to Allah, Lord of the Worlds,\n",
      "\n",
      "Quran\tthe Merciful, the Most Merciful,\n",
      "\n",
      "Quran\tOwner of the Day of Recompense.\n",
      "\n",
      "Quran\tGuide us to the Straight Path,\n",
      "\n",
      "Quran\tthe Path of those upon whom You have favored, not those upon whom is the anger, nor the astray. (Amen please answer)\n",
      "\n"
     ]
    }
   ],
   "source": [
    "with open(\"datasets/comparing_train_and_dev.tsv\") as f:\n",
    "    for i in range(5):\n",
    "        print(f.readline())"
   ]
  },
  {
   "cell_type": "markdown",
   "id": "6cc354f3",
   "metadata": {},
   "source": [
    "## Preprocessing\n",
    "\n"
   ]
  },
  {
   "cell_type": "code",
   "execution_count": 2,
   "id": "c8674aca",
   "metadata": {},
   "outputs": [],
   "source": [
    "import re\n",
    "import Stemmer\n",
    "import os\n",
    "from collections import Counter\n",
    "import unittest\n",
    "%reload_ext ipython_unittest"
   ]
  },
  {
   "cell_type": "markdown",
   "id": "1c48e531",
   "metadata": {},
   "source": [
    "The cell below contains the preprocessing code for English text from Lab 1."
   ]
  },
  {
   "cell_type": "code",
   "execution_count": 3,
   "id": "141fcd14",
   "metadata": {},
   "outputs": [],
   "source": [
    "# The file 'datasets/stopwords_en.txt' contains a list of stopwords - one per line.\n",
    "with open(\"datasets/stopwords_en.txt\") as f:\n",
    "    enStopWords = set(f.read().splitlines())\n",
    "\n",
    "#      stopWords.extend(['thy', 'ye', 'thou', 'thee', 'shalt', 'hath'])\n",
    "\n",
    "# Initialze the SnowballStemmer\n",
    "enStemmer = Stemmer.Stemmer('english')\n",
    "\n",
    "def preprocess_line_en(line: str) -> list[str]:\n",
    "    # Convert to lower case\n",
    "    tokens = line.lower()\n",
    "    \n",
    "    # Split into tokens with no punctuation\n",
    "    tokens = re.split(\"[^\\w]\", tokens)\n",
    "    \n",
    "    # Remove empty strings and stop words and apply the stemmer\n",
    "    tokens = [enStemmer.stemWord(x) for x in tokens if x and x not in enStopWords]\n",
    "    \n",
    "    # Return the tokens\n",
    "    return tokens"
   ]
  },
  {
   "cell_type": "markdown",
   "id": "6ae4d242",
   "metadata": {},
   "source": [
    "## Exercise 1\n",
    "\n",
    "Given a doc_name \"Quran\", \"NT\", or \"OT\" and implement the following function that reads each line of the corpus and preprocesses the selected documents."
   ]
  },
  {
   "cell_type": "code",
   "execution_count": null,
   "id": "300e5d29",
   "metadata": {},
   "outputs": [],
   "source": [
    "def preprocess_dataset(doc_name: str, dataset: list[str]) -> list[str]:\n",
    "    \"\"\"Preprocesses and returns the documents from the dataset with the given doc name\"\"\"\n",
    "    \n",
    "    # 1. Loop over each line in the dataset and split it on the tab character '\\t'. \n",
    "    # The first part is the document name the second part is the document.\n",
    "    \n",
    "    # 2. If the document name is the one specified in the parameter doc_name then preprocess it using \n",
    "    # preprocess_line_en.\n",
    "    \n",
    "    # 3. Return all the preprocessed documents.\n",
    "    # Example return value: [['owner', 'day', 'recompens'], ['guid', 'straight', 'path'], ...]\n",
    "    \n",
    "    raise Exception(\"Implement me!\")"
   ]
  },
  {
   "cell_type": "markdown",
   "id": "2cb55ab0",
   "metadata": {},
   "source": [
    "Run the following test to verify your preprocessing function works as expected. If it passes you should see it succeeds"
   ]
  },
  {
   "cell_type": "code",
   "execution_count": 5,
   "id": "3b9c2ea5",
   "metadata": {},
   "outputs": [],
   "source": [
    "test_corpus = ['Quran\\tPraise be to Allah, Lord of the Worlds,',\n",
    " 'Quran\\tthe Merciful, the Most Merciful,',\n",
    " 'Quran\\tOwner of the Day of Recompense.',\n",
    " 'Quran\\tGuide us to the Straight Path,',\n",
    " 'NT\\tNow the birth of Jesus Christ was on this wise: When as his mother Mary was espoused to Joseph, before they came together, she was found with child of the Holy Ghost.',\n",
    " 'NT\\tThen Joseph her husband, being a just man, and not willing to make her a publick example, was minded to put her away privily.',\n",
    " 'NT\\tBut while he thought on these things, behold, the angel of the LORD appeared unto him in a dream, saying, Joseph, thou son of David, fear not to take unto thee Mary thy wife: for that which is conceived in her is of the Holy Ghost.',\n",
    " 'NT\\tAnd she shall bring forth a son, and thou shalt call his name JESUS: for he shall save his people from their sins.',\n",
    " 'OT\\tAnd the earth was without form, and void; and darkness was upon the face of the deep. And the Spirit of God moved upon the face of the waters.',\n",
    " 'OT\\tAnd God said, Let there be light: and there was light.',\n",
    " 'OT\\tAnd God saw the light, that it was good: and God divided the light from the darkness.',\n",
    " 'OT\\tAnd God called the light Day, and the darkness he called Night. And the evening and the morning were the first day.',\n",
    " 'OT\\tAnd God said, Let there be a firmament in the midst of the waters, and let it divide the waters from the waters.']"
   ]
  },
  {
   "cell_type": "code",
   "execution_count": 6,
   "id": "0f3c99ef",
   "metadata": {},
   "outputs": [
    {
     "data": {
      "application/unittest.status+json": {
       "color": "yellow",
       "message": "",
       "previous": 0
      },
      "text/plain": []
     },
     "metadata": {},
     "output_type": "display_data"
    },
    {
     "data": {
      "application/unittest.status+json": {
       "color": "lightgreen",
       "message": "...\n----------------------------------------------------------------------\nRan 3 tests in 0.001s\n\nOK\n",
       "previous": 0
      },
      "text/plain": [
       "Success"
      ]
     },
     "metadata": {},
     "output_type": "display_data"
    },
    {
     "name": "stdout",
     "output_type": "stream",
     "text": [
      "...\n",
      "----------------------------------------------------------------------\n",
      "Ran 3 tests in 0.001s\n",
      "\n",
      "OK\n"
     ]
    },
    {
     "data": {
      "text/plain": [
       "<unittest.runner.TextTestResult run=3 errors=0 failures=0>"
      ]
     },
     "execution_count": 6,
     "metadata": {},
     "output_type": "execute_result"
    }
   ],
   "source": [
    "%%unittest\n",
    "\"Quran documents are correctly processed\"\n",
    "result = preprocess_dataset(\"Quran\", test_corpus)\n",
    "assert result == [['prais', 'allah', 'lord', 'world'], ['merci', 'merci'], ['owner', 'day', 'recompens'], ['guid', 'straight', 'path']]\n",
    "\n",
    "\"Old Testament documents are correctly processed\"\n",
    "result = preprocess_dataset(\"OT\", test_corpus)\n",
    "assert result == [['earth', 'form', 'void', 'dark', 'face', 'deep', 'spirit', 'god', 'move', 'face', 'water'], ['god', 'light', 'light'], ['god', 'light', 'good', 'god', 'divid', 'light', 'dark'], ['god', 'call', 'light', 'day', 'dark', 'call', 'night', 'even', 'morn', 'day'], ['god', 'firmament', 'midst', 'water', 'divid', 'water', 'water']]\n",
    "\n",
    "\"New Testament documents are correctly processed\"\n",
    "result = preprocess_dataset(\"NT\", test_corpus)\n",
    "assert result == [['birth', 'jesus', 'christ', 'wise', 'mother', 'mari', 'espous', 'joseph', 'found', 'child', 'holi', 'ghost'], ['joseph', 'husband', 'man', 'make', 'publick', 'mind', 'put', 'privili'], ['thought', 'thing', 'behold', 'angel', 'lord', 'appear', 'dream', 'joseph', 'thou', 'son', 'david', 'fear', 'thee', 'mari', 'thi', 'wife', 'conceiv', 'holi', 'ghost'], ['bring', 'son', 'thou', 'shalt', 'call', 'jesus', 'save', 'peopl', 'sin']]"
   ]
  },
  {
   "cell_type": "code",
   "execution_count": 4,
   "id": "3eef71ec",
   "metadata": {},
   "outputs": [],
   "source": [
    "# Answer\n",
    "def preprocess_dataset(doc_name: str, dataset: list[str]) -> list[str]:\n",
    "    \n",
    "    docs = []\n",
    "\n",
    "    for line in dataset:\n",
    "        \n",
    "        line = line.strip()\n",
    "        if line:\n",
    "            doc, text = line.split('\\t')\n",
    "\n",
    "            terms = preprocess_line_en(text)\n",
    "\n",
    "            if doc == doc_name:\n",
    "                docs.append(terms)\n",
    "    \n",
    "    return docs"
   ]
  },
  {
   "cell_type": "markdown",
   "id": "20994101",
   "metadata": {},
   "source": [
    "## Mutual Information & Chi Squared\n",
    "\n",
    "The following functions in the cell below calculate mutual information and chi squared."
   ]
  },
  {
   "cell_type": "code",
   "execution_count": 7,
   "id": "972ccee5",
   "metadata": {},
   "outputs": [],
   "source": [
    "from math import log2"
   ]
  },
  {
   "cell_type": "code",
   "execution_count": 8,
   "id": "fda778e9",
   "metadata": {},
   "outputs": [],
   "source": [
    "def compute_term_doc_freqs(corpus):\n",
    "    # For each term find the number of docs in the corpus that contain it\n",
    "    freqs = Counter()\n",
    "\n",
    "    for doc in corpus:\n",
    "        terms = set(doc)\n",
    "        freqs.update(terms)\n",
    "        \n",
    "    return freqs \n",
    "\n",
    "def xlogy(x, y):\n",
    "    # Compute x * log(y). If x == 0 then return zero without\n",
    "    # evaluating log(y)\n",
    "    if x == 0:\n",
    "        return 0\n",
    "    else:\n",
    "        return x * log2(y)\n",
    "\n",
    "def compute_mi(n00, n10, n01, n11):\n",
    "    # Compute mutual information\n",
    "    N = n00 + n10 + n01 + n11\n",
    "    return xlogy((n11 / N), (N * n11) / ((n11 + n10) * (n11 + n01))) + \\\n",
    "            xlogy((n01 / N), (N * n01) / ((n01 + n00) * (n11 + n01))) + \\\n",
    "            xlogy((n10 / N), (N * n10) / ((n11 + n10) * (n10 + n00))) + \\\n",
    "            xlogy((n00 / N), (N * n00) / ((n01 + n00) * (n10 + n00)))\n",
    "\n",
    "def compute_chi_sq(n00, n10, n01, n11):\n",
    "    # Compute chi squared\n",
    "    return ((n11 + n10 + n01 + n00) * (n11 * n00 - n10 * n01)**2) / \\\n",
    "            ((n11 + n01) * (n11 + n10) * (n10 + n00) * (n01 + n00))\n",
    "\n",
    "def compute_mi_and_chi_sq(corpus, other_corpus, vocab):\n",
    "    # Compute the term doc frequencies for the corpus and the other corpus\n",
    "    corpus_freqs = compute_term_doc_freqs(corpus)\n",
    "    other_corpus_freqs = compute_term_doc_freqs(other_corpus)\n",
    "\n",
    "    # For each term in the vocab compute the MI and Chi squared\n",
    "    mut_inf = {}\n",
    "    chi_sq = {}\n",
    "\n",
    "    for term in vocab:\n",
    "\n",
    "        # Number of docs in corpus containing term\n",
    "        n11 = corpus_freqs.get(term, 0)\n",
    "\n",
    "        # Number of docs in corpus not containing term\n",
    "        n10 = len(corpus) - n11 \n",
    "\n",
    "        # Number of docs not in corpus containing term\n",
    "        n01 = other_corpus_freqs.get(term, 0)\n",
    "\n",
    "        # Number of docs not in corpus not containing term\n",
    "        n00 = len(other_corpus) - n01 \n",
    "\n",
    "        # Compute MI\n",
    "        mut_inf[term] = compute_mi(n00, n10, n01, n11)\n",
    "\n",
    "        # Compute Chi squared\n",
    "        chi_sq[term] = compute_chi_sq(n00, n10, n01, n11)\n",
    "    \n",
    "    return mut_inf, chi_sq "
   ]
  },
  {
   "cell_type": "markdown",
   "id": "8a83ef4a",
   "metadata": {},
   "source": [
    "## Exercise 2\n",
    "\n",
    "Write code following the steps below to calculate mutual information and chi squared for the corpus."
   ]
  },
  {
   "cell_type": "code",
   "execution_count": 9,
   "id": "bc234a49",
   "metadata": {},
   "outputs": [],
   "source": [
    "def read_corpus() -> list[str]:\n",
    "    with open(\"datasets/comparing_train_and_dev.tsv\") as f:\n",
    "        return f.readlines()"
   ]
  },
  {
   "cell_type": "code",
   "execution_count": null,
   "id": "5efa1125",
   "metadata": {},
   "outputs": [],
   "source": [
    "# 1. Read the corpus by calling the function read_corpus defined above. \n",
    "\n",
    "# 2. Preprocess the datasets \"Quran\", \"OT\", and \"NT\" using the preprocess_dataset function.\n",
    "\n",
    "# 3. Generate the vocabulary (a list of all the unique words) in the entire preprocessed corpus.\n",
    "\n",
    "# 4. By calling the function compute_mi_and_chi_sq calculate the mutual information \n",
    "# and chi squared values for the Quran. The parameter corpus should be the preprocessed Quran documents and\n",
    "# the 'other_corpus' is the combination of the preprocessed old and new testaments.\n",
    "\n",
    "# 5. Sort the statistics from highest to lowest and print the top 10 mutual information words \n",
    "# and the top 10 chi squared words for the Quran.\n",
    "\n",
    "# 6. Repeat steps 4 and 5 to calculate the mutual information and chi squared for the Old Testament and \n",
    "# the New Testament.\n"
   ]
  },
  {
   "cell_type": "code",
   "execution_count": 10,
   "id": "de820135",
   "metadata": {},
   "outputs": [
    {
     "name": "stdout",
     "output_type": "stream",
     "text": [
      "Top 10 MI for Quran:\n",
      "('allah', 0.153)\n",
      "('thou', 0.039)\n",
      "('thi', 0.031)\n",
      "('ye', 0.028)\n",
      "('thee', 0.028)\n",
      "('god', 0.025)\n",
      "('man', 0.02)\n",
      "('king', 0.019)\n",
      "('hath', 0.019)\n",
      "('punish', 0.018)\n",
      "\n",
      "Top 10 Chi Sq for Quran:\n",
      "('allah', 7058.784)\n",
      "('punish', 917.837)\n",
      "('thou', 889.245)\n",
      "('believ', 856.012)\n",
      "('unbeliev', 811.822)\n",
      "('messeng', 769.741)\n",
      "('god', 704.642)\n",
      "('thi', 699.436)\n",
      "('beli', 683.328)\n",
      "('guid', 677.282)\n",
      "\n",
      "Top 10 MI for New Testament:\n",
      "('jesus', 0.065)\n",
      "('christ', 0.037)\n",
      "('allah', 0.019)\n",
      "('discipl', 0.018)\n",
      "('lord', 0.016)\n",
      "('ye', 0.013)\n",
      "('israel', 0.013)\n",
      "('faith', 0.013)\n",
      "('paul', 0.012)\n",
      "('peter', 0.011)\n",
      "\n",
      "Top 10 Chi Sq for New Testament:\n",
      "('jesus', 3268.989)\n",
      "('christ', 1795.001)\n",
      "('discipl', 909.8)\n",
      "('faith', 669.145)\n",
      "('paul', 588.945)\n",
      "('ye', 586.429)\n",
      "('peter', 560.751)\n",
      "('lord', 538.896)\n",
      "('thing', 525.05)\n",
      "('receiv', 490.809)\n",
      "\n",
      "Top 10 MI for Old Testament:\n",
      "('allah', 0.087)\n",
      "('jesus', 0.041)\n",
      "('israel', 0.036)\n",
      "('lord', 0.031)\n",
      "('thi', 0.03)\n",
      "('king', 0.029)\n",
      "('thou', 0.023)\n",
      "('christ', 0.021)\n",
      "('thee', 0.019)\n",
      "('believ', 0.017)\n",
      "\n",
      "Top 10 Chi Sq for Old Testament:\n",
      "('allah', 2778.575)\n",
      "('jesus', 1296.973)\n",
      "('lord', 1119.329)\n",
      "('israel', 1070.163)\n",
      "('thi', 953.891)\n",
      "('king', 884.374)\n",
      "('thou', 776.969)\n",
      "('christ', 649.054)\n",
      "('thee', 633.997)\n",
      "('believ', 600.444)\n",
      "\n"
     ]
    }
   ],
   "source": [
    "### Answer\n",
    "def compute_vocab(corpus):\n",
    "    # Compute the vocab for the corpus\n",
    "    return set([term for doc in corpus for term in doc])\n",
    "\n",
    "def get_top_10_stats(stats):\n",
    "    return [(k, round(stats[k], 3)) for k in sorted(stats, key=stats.get, reverse=True)][:10]\n",
    "\n",
    "def format_list(l):\n",
    "    return \"\\n\".join([str(i) for i in l])\n",
    "\n",
    "def print_top_10_stats(corpus_name, mi, chi_sq):\n",
    "    # Print the top 10 MI topics and scores\n",
    "    mi_top_10 = get_top_10_stats(mi)\n",
    "    print(f\"Top 10 MI for {corpus_name}:\\n{format_list(mi_top_10)}\\n\")\n",
    "\n",
    "    # Print the top 10 Chi Sq topics and scores\n",
    "    chi_sq_top_10 = get_top_10_stats(chi_sq)\n",
    "    print(f\"Top 10 Chi Sq for {corpus_name}:\\n{format_list(chi_sq_top_10)}\\n\")  \n",
    "    \n",
    "corpus = read_corpus()\n",
    "quran = preprocess_dataset(\"Quran\", corpus)\n",
    "new_testament = preprocess_dataset(\"NT\", corpus)\n",
    "old_testament = preprocess_dataset(\"OT\", corpus)\n",
    "\n",
    "# Combine all the preprocessed corpora together\n",
    "corpus_documents = quran + new_testament + old_testament\n",
    "\n",
    "# Get the vocab for the corpus\n",
    "vocab = compute_vocab(corpus_documents)\n",
    "\n",
    "# Compute stats for the Quran\n",
    "quran_mi, quran_chi_sq = compute_mi_and_chi_sq(quran, new_testament + old_testament, vocab)\n",
    "print_top_10_stats(\"Quran\", quran_mi, quran_chi_sq)\n",
    "\n",
    "# Compute stats for the New Testament\n",
    "nt_mi, nt_chi_sq = compute_mi_and_chi_sq(new_testament, quran + old_testament, vocab)\n",
    "print_top_10_stats(\"New Testament\", nt_mi, nt_chi_sq)\n",
    "\n",
    "# Compute stats for the Old Testament\n",
    "ot_mi, ot_chi_sq = compute_mi_and_chi_sq(old_testament, quran + new_testament, vocab)\n",
    "print_top_10_stats(\"Old Testament\", ot_mi, ot_chi_sq)"
   ]
  },
  {
   "cell_type": "markdown",
   "id": "0abafbc2",
   "metadata": {},
   "source": [
    "### Analysis\n",
    "\n",
    "1. What differences do you observe between the top Mutual Information words and the top Chi Squared words?\n",
    "\n",
    "2. What can you learn about the three documents, the Quran, Old Testament, and New Testament from these results?"
   ]
  },
  {
   "cell_type": "markdown",
   "id": "e600bd80",
   "metadata": {},
   "source": [
    "## Extension exercises\n",
    "\n",
    "1. Notice that words like \"thou\", \"thi\", \"ye\" appear in the output - what do you think these words mean in English?\n",
    "2. It turns out these are old English words for \"you\" and \"they\" - but these should be stop words! Modify the preprocessing code to exclude these words.\n",
    "3. Recalculate the Mutual Information and Chi Squared scores. Do you get better results?"
   ]
  },
  {
   "cell_type": "markdown",
   "id": "9a7ffda4",
   "metadata": {},
   "source": [
    "## LDA"
   ]
  },
  {
   "cell_type": "code",
   "execution_count": 11,
   "id": "c3584855",
   "metadata": {},
   "outputs": [],
   "source": [
    "import numpy as np\n",
    "from gensim import models\n",
    "from gensim.corpora.dictionary import Dictionary"
   ]
  },
  {
   "cell_type": "code",
   "execution_count": 12,
   "id": "f673d84f",
   "metadata": {},
   "outputs": [],
   "source": [
    "corpus = read_corpus()\n",
    "quran = preprocess_dataset(\"Quran\", corpus)\n",
    "new_testament = preprocess_dataset(\"NT\", corpus)\n",
    "old_testament = preprocess_dataset(\"OT\", corpus)\n",
    "\n",
    "# Combine all the preprocessed corpora together\n",
    "common_texts = quran + new_testament + old_testament\n",
    "\n",
    "# Create dictionary \n",
    "corpus_dictionary = Dictionary(common_texts)\n",
    "corpus = [corpus_dictionary.doc2bow(d) for d in common_texts]"
   ]
  },
  {
   "cell_type": "code",
   "execution_count": 13,
   "id": "d742f216",
   "metadata": {},
   "outputs": [],
   "source": [
    "# Train the LDA model with 20 topics\n",
    "lda = models.LdaModel(corpus, num_topics=20, id2word=corpus_dictionary)"
   ]
  },
  {
   "cell_type": "code",
   "execution_count": 14,
   "id": "d0288a3b",
   "metadata": {},
   "outputs": [
    {
     "name": "stdout",
     "output_type": "stream",
     "text": [
      "Document: \n",
      " ['prais', 'allah', 'lord', 'world']\n",
      "Topics: \n",
      " [(0, 0.010001853), (1, 0.010001853), (2, 0.010001853), (3, 0.010001853), (4, 0.010001853), (5, 0.010001853), (6, 0.010001853), (7, 0.010001853), (8, 0.010001853), (9, 0.010001856), (10, 0.80996484), (11, 0.010001853), (12, 0.010001854), (13, 0.010001853), (14, 0.010001853), (15, 0.010001853), (16, 0.010001853), (17, 0.010001853), (18, 0.010001853), (19, 0.010001853)]\n",
      "Document: \n",
      " ['merci', 'merci']\n",
      "Topics: \n",
      " [(0, 0.01666682), (1, 0.01666682), (2, 0.6833304), (3, 0.01666682), (4, 0.01666682), (5, 0.01666682), (6, 0.01666682), (7, 0.01666682), (8, 0.01666682), (9, 0.01666682), (10, 0.01666682), (11, 0.01666682), (12, 0.01666682), (13, 0.01666682), (14, 0.01666682), (15, 0.01666682), (16, 0.01666682), (17, 0.01666682), (18, 0.01666682), (19, 0.01666682)]\n",
      "Document: \n",
      " ['owner', 'day', 'recompens']\n",
      "Topics: \n",
      " [(0, 0.012502207), (1, 0.2371263), (2, 0.28051636), (3, 0.012502207), (4, 0.012502207), (5, 0.012502207), (6, 0.26981983), (7, 0.012502207), (8, 0.012502207), (9, 0.012502207), (10, 0.012502207), (11, 0.012502207), (12, 0.012502207), (13, 0.012502207), (14, 0.012502207), (15, 0.012502207), (16, 0.012502207), (17, 0.012502207), (18, 0.012502207), (19, 0.012502207)]\n",
      "Document: \n",
      " ['guid', 'straight', 'path']\n",
      "Topics: \n",
      " [(0, 0.012501292), (1, 0.012501292), (2, 0.012501292), (3, 0.32929674), (4, 0.44568), (5, 0.012501292), (6, 0.012501292), (7, 0.012501292), (8, 0.012501292), (9, 0.012501292), (10, 0.012501292), (11, 0.012501292), (12, 0.012501292), (13, 0.012501292), (14, 0.012501292), (15, 0.012501292), (16, 0.012501292), (17, 0.012501292), (18, 0.012501292), (19, 0.012501292)]\n",
      "Document: \n",
      " ['path', 'favor', 'anger', 'astray', 'amen', 'answer']\n",
      "Topics: \n",
      " [(2, 0.5767791), (10, 0.1464053), (11, 0.15514462)]\n"
     ]
    }
   ],
   "source": [
    "# Inspect the top 5 docs from the quran\n",
    "for i in range(5):\n",
    "    doc_bow = corpus_dictionary.doc2bow(quran[i])\n",
    "    topics = lda.get_document_topics(doc_bow)\n",
    "    print('Document: \\n', quran[i])\n",
    "    print('Topics: \\n', topics)"
   ]
  },
  {
   "cell_type": "code",
   "execution_count": 15,
   "id": "1c45ba0c",
   "metadata": {},
   "outputs": [
    {
     "name": "stdout",
     "output_type": "stream",
     "text": [
      "The top five words for each topic:\n",
      "0 :  0.123*\"mine\" + 0.085*\"midst\" + 0.075*\"work\" + 0.031*\"fruit\" + 0.031*\"drink\"\n",
      "1 :  0.128*\"offer\" + 0.069*\"day\" + 0.053*\"captiv\" + 0.049*\"sin\" + 0.037*\"sacrific\"\n",
      "2 :  0.207*\"lord\" + 0.034*\"evil\" + 0.032*\"heart\" + 0.027*\"head\" + 0.024*\"righteous\"\n",
      "3 :  0.092*\"deliv\" + 0.062*\"blood\" + 0.051*\"flesh\" + 0.045*\"reign\" + 0.039*\"troubl\"\n",
      "4 :  0.072*\"set\" + 0.052*\"mountain\" + 0.052*\"face\" + 0.037*\"day\" + 0.036*\"lift\"\n",
      "5 :  0.141*\"men\" + 0.059*\"thousand\" + 0.043*\"gold\" + 0.041*\"hundr\" + 0.033*\"twenti\"\n",
      "6 :  0.140*\"man\" + 0.081*\"david\" + 0.038*\"jacob\" + 0.032*\"round\" + 0.030*\"lord\"\n",
      "7 :  0.087*\"gate\" + 0.064*\"cast\" + 0.056*\"tree\" + 0.054*\"spirit\" + 0.051*\"god\"\n",
      "8 :  0.078*\"father\" + 0.062*\"son\" + 0.057*\"daughter\" + 0.044*\"cut\" + 0.040*\"field\"\n",
      "9 :  0.152*\"god\" + 0.135*\"lord\" + 0.054*\"word\" + 0.034*\"israel\" + 0.024*\"thing\"\n",
      "10 :  0.118*\"hous\" + 0.100*\"behold\" + 0.071*\"lord\" + 0.046*\"earth\" + 0.045*\"egypt\"\n",
      "11 :  0.082*\"pass\" + 0.080*\"citi\" + 0.050*\"judgment\" + 0.032*\"wall\" + 0.029*\"man\"\n",
      "12 :  0.083*\"stone\" + 0.057*\"righteous\" + 0.056*\"laid\" + 0.045*\"iron\" + 0.042*\"chief\"\n",
      "13 :  0.078*\"hear\" + 0.062*\"eye\" + 0.059*\"voic\" + 0.034*\"dwell\" + 0.033*\"ear\"\n",
      "14 :  0.081*\"lord\" + 0.047*\"spoil\" + 0.045*\"wast\" + 0.043*\"build\" + 0.035*\"war\"\n",
      "15 :  0.081*\"host\" + 0.064*\"servant\" + 0.058*\"side\" + 0.040*\"place\" + 0.035*\"live\"\n",
      "16 :  0.049*\"beast\" + 0.047*\"strong\" + 0.038*\"day\" + 0.037*\"rejoic\" + 0.036*\"heard\"\n",
      "17 :  0.293*\"king\" + 0.041*\"put\" + 0.034*\"wine\" + 0.030*\"east\" + 0.030*\"hand\"\n",
      "18 :  0.103*\"land\" + 0.099*\"israel\" + 0.052*\"children\" + 0.042*\"lord\" + 0.038*\"water\"\n",
      "19 :  0.267*\"son\" + 0.086*\"priest\" + 0.075*\"princ\" + 0.045*\"prophet\" + 0.032*\"wisdom\"\n"
     ]
    }
   ],
   "source": [
    "# Print out the top 5 words for each topic\n",
    "print(\"The top five words for each topic:\")\n",
    "topics = lda.print_topics(num_words=5)\n",
    "for topic_id, words in topics:\n",
    "    print(topic_id, ': ', words)"
   ]
  },
  {
   "cell_type": "markdown",
   "id": "db405369",
   "metadata": {},
   "source": [
    "## Exercise 3\n",
    "\n",
    "In this exercise we'll write some code to interpret the topics identified by the LDA model.\n",
    "\n",
    "1. For each of the three corpora: Quran, Old Testament, and New Testament, compute the average score for each topic by summing the document-topic probability for each document in that corpus and dividing by the total number of documents in the corpus.\n",
    "2. Then for each corpus, identify the top topic that has the highest average score. For each of those three top topics print the top 10 tokens with highest probability of belonging to that topic. Hint: use `lda.print_topic`."
   ]
  },
  {
   "cell_type": "code",
   "execution_count": 16,
   "id": "07c75ca7",
   "metadata": {},
   "outputs": [
    {
     "name": "stdout",
     "output_type": "stream",
     "text": [
      "Top topic id for  Quran  is:  2\n",
      "Top 10 words:\n",
      " 0.207*\"lord\" + 0.034*\"evil\" + 0.032*\"heart\" + 0.027*\"head\" + 0.024*\"righteous\" + 0.024*\"great\" + 0.024*\"anger\" + 0.023*\"mouth\" + 0.023*\"speak\" + 0.022*\"word\" \n",
      "\n",
      "Top topic id for  New Testament  is:  9\n",
      "Top 10 words:\n",
      " 0.152*\"god\" + 0.135*\"lord\" + 0.054*\"word\" + 0.034*\"israel\" + 0.024*\"thing\" + 0.020*\"command\" + 0.019*\"prais\" + 0.018*\"peopl\" + 0.016*\"measur\" + 0.016*\"spoken\" \n",
      "\n",
      "Top topic id for  Old Testament  is:  9\n",
      "Top 10 words:\n",
      " 0.152*\"god\" + 0.135*\"lord\" + 0.054*\"word\" + 0.034*\"israel\" + 0.024*\"thing\" + 0.020*\"command\" + 0.019*\"prais\" + 0.018*\"peopl\" + 0.016*\"measur\" + 0.016*\"spoken\" \n",
      "\n"
     ]
    }
   ],
   "source": [
    "# Answer\n",
    "# For each corpus compute the average score for each topic\n",
    "def compute_average_topic_score(corpus, lda):\n",
    "    # Create an array to contain the averages\n",
    "    topic_sums = np.zeros((lda.num_topics))\n",
    "    \n",
    "    for doc in corpus:\n",
    "        # Get the topics for this document\n",
    "        doc_bow = corpus_dictionary.doc2bow(doc)\n",
    "        doc_topics = lda.get_document_topics(doc_bow)\n",
    "        \n",
    "        # Sum the probabilities for each topic\n",
    "        for topic_id, p in doc_topics:\n",
    "            topic_sums[topic_id] += p\n",
    "    \n",
    "    # Return the average probabilities for each topic\n",
    "    return topic_sums / len(corpus)\n",
    "\n",
    "def print_top_topic(corpus_name, scores, lda):\n",
    "    # Find the id of the topic with the highest probability\n",
    "    top_topic_id = np.argmax(scores)\n",
    "\n",
    "    # Get the top 10 tokens corresponding to that topic\n",
    "    topic_words = lda.print_topic(top_topic_id, topn=10)\n",
    "\n",
    "    # Print the results\n",
    "    print(\"Top topic id for \", corpus_name, \" is: \", top_topic_id)\n",
    "    print(\"Top 10 words:\\n\", topic_words, \"\\n\")\n",
    "\n",
    "def print_all_topics(quran_scores, nt_scores, ot_scores, lda):\n",
    "    print(\"LDA topics:\")\n",
    "    all_topics = lda.print_topics(num_topics=20, num_words=10)\n",
    "    for topic_id, keywords in all_topics:\n",
    "        print(topic_id, ': ', keywords)\n",
    "\n",
    "    # Sort the topics\n",
    "    sorted_quran_topic_ids = np.flip(np.argsort(quran_scores))\n",
    "    sorted_nt_topic_ids = np.flip(np.argsort(nt_scores))\n",
    "    sorted_ot_topic_ids = np.flip(np.argsort(ot_scores))\n",
    "    print(\"Quran, NT, OT\")\n",
    "    print(np.vstack([sorted_quran_topic_ids, quran_scores[sorted_quran_topic_ids], sorted_nt_topic_ids, nt_scores[sorted_nt_topic_ids], sorted_ot_topic_ids, ot_scores[sorted_ot_topic_ids]]).T)\n",
    "    \n",
    "# Get the average topic scores for each corpus\n",
    "quran_avg_topic_scores = compute_average_topic_score(quran, lda)\n",
    "nt_avg_topic_scores = compute_average_topic_score(new_testament, lda)\n",
    "ot_avg_topic_scores = compute_average_topic_score(old_testament, lda)\n",
    "\n",
    "# Print out the top topic and top 10 words for that topic\n",
    "print_top_topic(\"Quran\", quran_avg_topic_scores, lda)\n",
    "print_top_topic(\"New Testament\", nt_avg_topic_scores, lda)\n",
    "print_top_topic(\"Old Testament\", ot_avg_topic_scores, lda)\n",
    "\n",
    "# Print out the list of all topics for each corpus\n",
    "# print_all_topics(quran_avg_topic_scores, nt_avg_topic_scores, ot_avg_topic_scores, lda)"
   ]
  },
  {
   "cell_type": "markdown",
   "id": "b209d6d8",
   "metadata": {},
   "source": [
    "### Analysis\n",
    "\n",
    "1. For each of the three top topics what title in 1-3 words would you give to that topic?\n",
    "\n",
    "2. What does the LDA model tell you about the corpus? Consider the top three topics you have found. "
   ]
  },
  {
   "cell_type": "markdown",
   "id": "e6780819",
   "metadata": {},
   "source": [
    "### Extension Exercises\n",
    "\n",
    "1. Print out a list of all the topics for each corpus. Are there any topics that appear to be common in 2 corpora but not in the other? What are they and what are some examples of high probability words from these topics?\n",
    "\n",
    "2. How do these results differ from what you learned using mutual information and chi squared?"
   ]
  }
 ],
 "metadata": {
  "kernelspec": {
   "display_name": "Python 3 (ipykernel)",
   "language": "python",
   "name": "python3"
  },
  "language_info": {
   "codemirror_mode": {
    "name": "ipython",
    "version": 3
   },
   "file_extension": ".py",
   "mimetype": "text/x-python",
   "name": "python",
   "nbconvert_exporter": "python",
   "pygments_lexer": "ipython3",
   "version": "3.10.9"
  }
 },
 "nbformat": 4,
 "nbformat_minor": 5
}
